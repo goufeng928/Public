{
 "cells": [
  {
   "cell_type": "code",
   "execution_count": 1,
   "id": "2880f026-afca-4c87-8b4f-88f3655aeef7",
   "metadata": {
    "tags": []
   },
   "outputs": [],
   "source": [
    "# Creat By GF 2023-07-15\n",
    "\n",
    "# Python3_Project_用户分层-RFM模型-1-构建数据.ipynb"
   ]
  },
  {
   "cell_type": "code",
   "execution_count": 67,
   "id": "24d652be-e147-4659-bedc-63dc0927dbd0",
   "metadata": {
    "tags": []
   },
   "outputs": [],
   "source": [
    "import pandas as pd\n",
    "import numpy as np"
   ]
  },
  {
   "cell_type": "code",
   "execution_count": 68,
   "id": "1c8af369-4b47-46a4-a001-861daf587e5d",
   "metadata": {},
   "outputs": [],
   "source": [
    "# 构建数据。"
   ]
  },
  {
   "cell_type": "code",
   "execution_count": 69,
   "id": "0ecb96f0-a82a-498a-a963-41df73152143",
   "metadata": {
    "tags": []
   },
   "outputs": [],
   "source": [
    "# 1. 构建数据 : 时间字段。"
   ]
  },
  {
   "cell_type": "code",
   "execution_count": 71,
   "id": "759642e1-0d21-4dee-bf32-99d0d3f47bb7",
   "metadata": {
    "tags": []
   },
   "outputs": [
    {
     "data": {
      "text/plain": [
       "DatetimeIndex(['2019-01-01', '2019-01-02', '2019-01-03', '2019-01-04',\n",
       "               '2019-01-05', '2019-01-06', '2019-01-07', '2019-01-08',\n",
       "               '2019-01-09', '2019-01-10',\n",
       "               ...\n",
       "               '2021-12-22', '2021-12-23', '2021-12-24', '2021-12-25',\n",
       "               '2021-12-26', '2021-12-27', '2021-12-28', '2021-12-29',\n",
       "               '2021-12-30', '2021-12-31'],\n",
       "              dtype='datetime64[ns]', length=1096, freq='D')"
      ]
     },
     "execution_count": 71,
     "metadata": {},
     "output_type": "execute_result"
    }
   ],
   "source": [
    "# 1.1 时间。\n",
    "time_range = pd.date_range(start=\"1/1/2019\", end=\"31/12/2021\")\n",
    "time_range"
   ]
  },
  {
   "cell_type": "code",
   "execution_count": 72,
   "id": "c6091791-e4fe-4530-b048-6a1394527ce1",
   "metadata": {
    "tags": []
   },
   "outputs": [
    {
     "data": {
      "text/plain": [
       "1096"
      ]
     },
     "execution_count": 72,
     "metadata": {},
     "output_type": "execute_result"
    }
   ],
   "source": [
    "len(time_range)"
   ]
  },
  {
   "cell_type": "code",
   "execution_count": 73,
   "id": "7c5594b7-c0b4-4d77-8a75-c1dd4dcd2363",
   "metadata": {
    "tags": []
   },
   "outputs": [],
   "source": [
    "# 2. 构建数据 : 水果和用户。"
   ]
  },
  {
   "cell_type": "code",
   "execution_count": 74,
   "id": "85c76a00-5953-4910-9425-54e8e994f9ef",
   "metadata": {
    "tags": []
   },
   "outputs": [
    {
     "data": {
      "text/plain": [
       "array(['橙子', '桃子', '芭乐', ..., '梨', '葡萄', '桃子'], dtype='<U3')"
      ]
     },
     "execution_count": 74,
     "metadata": {},
     "output_type": "execute_result"
    }
   ],
   "source": [
    "# 2.1 购买水果。\n",
    "fruits = [\"香蕉\", \"苹果\", \"葡萄\", \"橙子\", \"哈密瓜\", \"芭乐\", \"梨\", \"桃子\"]\n",
    "fruits_list = np.random.choice(fruits, size=len(time_range), replace=True)\n",
    "fruits_list"
   ]
  },
  {
   "cell_type": "code",
   "execution_count": 75,
   "id": "ded3c314-c428-4da6-b8d6-5626886ca250",
   "metadata": {
    "tags": []
   },
   "outputs": [
    {
     "data": {
      "text/plain": [
       "array(['Jhon', 'Xiaoming', 'Tom', ..., 'Tom', 'Michk', 'Xiaoming'],\n",
       "      dtype='<U8')"
      ]
     },
     "execution_count": 75,
     "metadata": {},
     "output_type": "execute_result"
    }
   ],
   "source": [
    "# 2.2 客户。\n",
    "names = [\"Mike\", \"Jhon\", \"Tom\", \"Xiaoming\", \"Jimmy\", \"Lym\", \"Michk\"]\n",
    "names_list = np.random.choice(names, size=len(time_range), replace=True)\n",
    "names_list"
   ]
  },
  {
   "cell_type": "code",
   "execution_count": 76,
   "id": "5f57165a-984f-4309-b96d-baa27838db50",
   "metadata": {
    "tags": []
   },
   "outputs": [],
   "source": [
    "# 3. 生成订单数据。"
   ]
  },
  {
   "cell_type": "code",
   "execution_count": 77,
   "id": "fc6de8dc-dcee-402c-97b1-6a75949c97bc",
   "metadata": {
    "tags": []
   },
   "outputs": [
    {
     "data": {
      "text/html": [
       "<div>\n",
       "<style scoped>\n",
       "    .dataframe tbody tr th:only-of-type {\n",
       "        vertical-align: middle;\n",
       "    }\n",
       "\n",
       "    .dataframe tbody tr th {\n",
       "        vertical-align: top;\n",
       "    }\n",
       "\n",
       "    .dataframe thead th {\n",
       "        text-align: right;\n",
       "    }\n",
       "</style>\n",
       "<table border=\"1\" class=\"dataframe\">\n",
       "  <thead>\n",
       "    <tr style=\"text-align: right;\">\n",
       "      <th></th>\n",
       "      <th>time</th>\n",
       "      <th>fruit</th>\n",
       "      <th>name</th>\n",
       "      <th>kilogram</th>\n",
       "    </tr>\n",
       "  </thead>\n",
       "  <tbody>\n",
       "    <tr>\n",
       "      <th>0</th>\n",
       "      <td>2019-01-01</td>\n",
       "      <td>橙子</td>\n",
       "      <td>Jhon</td>\n",
       "      <td>93</td>\n",
       "    </tr>\n",
       "    <tr>\n",
       "      <th>1</th>\n",
       "      <td>2019-01-02</td>\n",
       "      <td>桃子</td>\n",
       "      <td>Xiaoming</td>\n",
       "      <td>93</td>\n",
       "    </tr>\n",
       "    <tr>\n",
       "      <th>2</th>\n",
       "      <td>2019-01-03</td>\n",
       "      <td>芭乐</td>\n",
       "      <td>Tom</td>\n",
       "      <td>69</td>\n",
       "    </tr>\n",
       "    <tr>\n",
       "      <th>3</th>\n",
       "      <td>2019-01-04</td>\n",
       "      <td>香蕉</td>\n",
       "      <td>Jimmy</td>\n",
       "      <td>87</td>\n",
       "    </tr>\n",
       "    <tr>\n",
       "      <th>4</th>\n",
       "      <td>2019-01-05</td>\n",
       "      <td>桃子</td>\n",
       "      <td>Tom</td>\n",
       "      <td>68</td>\n",
       "    </tr>\n",
       "    <tr>\n",
       "      <th>...</th>\n",
       "      <td>...</td>\n",
       "      <td>...</td>\n",
       "      <td>...</td>\n",
       "      <td>...</td>\n",
       "    </tr>\n",
       "    <tr>\n",
       "      <th>1091</th>\n",
       "      <td>2021-12-27</td>\n",
       "      <td>葡萄</td>\n",
       "      <td>Lym</td>\n",
       "      <td>74</td>\n",
       "    </tr>\n",
       "    <tr>\n",
       "      <th>1092</th>\n",
       "      <td>2021-12-28</td>\n",
       "      <td>葡萄</td>\n",
       "      <td>Tom</td>\n",
       "      <td>51</td>\n",
       "    </tr>\n",
       "    <tr>\n",
       "      <th>1093</th>\n",
       "      <td>2021-12-29</td>\n",
       "      <td>梨</td>\n",
       "      <td>Tom</td>\n",
       "      <td>78</td>\n",
       "    </tr>\n",
       "    <tr>\n",
       "      <th>1094</th>\n",
       "      <td>2021-12-30</td>\n",
       "      <td>葡萄</td>\n",
       "      <td>Michk</td>\n",
       "      <td>66</td>\n",
       "    </tr>\n",
       "    <tr>\n",
       "      <th>1095</th>\n",
       "      <td>2021-12-31</td>\n",
       "      <td>桃子</td>\n",
       "      <td>Xiaoming</td>\n",
       "      <td>76</td>\n",
       "    </tr>\n",
       "  </tbody>\n",
       "</table>\n",
       "<p>1096 rows × 4 columns</p>\n",
       "</div>"
      ],
      "text/plain": [
       "           time fruit      name  kilogram\n",
       "0    2019-01-01    橙子      Jhon        93\n",
       "1    2019-01-02    桃子  Xiaoming        93\n",
       "2    2019-01-03    芭乐       Tom        69\n",
       "3    2019-01-04    香蕉     Jimmy        87\n",
       "4    2019-01-05    桃子       Tom        68\n",
       "...         ...   ...       ...       ...\n",
       "1091 2021-12-27    葡萄       Lym        74\n",
       "1092 2021-12-28    葡萄       Tom        51\n",
       "1093 2021-12-29     梨       Tom        78\n",
       "1094 2021-12-30    葡萄     Michk        66\n",
       "1095 2021-12-31    桃子  Xiaoming        76\n",
       "\n",
       "[1096 rows x 4 columns]"
      ]
     },
     "execution_count": 77,
     "metadata": {},
     "output_type": "execute_result"
    }
   ],
   "source": [
    "order = pd.DataFrame({\"time\":time_range,  # -> 下单时间。\n",
    "                      \"fruit\":fruits_list, # -> 水果名称。\n",
    "                      \"name\":names_list,   # -> 顾客名。\n",
    "                      \"kilogram\":np.random.choice(list(range(50,100)), size=len(time_range),replace=True)} # -> 购买量。\n",
    "                     )\n",
    "order"
   ]
  },
  {
   "cell_type": "code",
   "execution_count": 78,
   "id": "1557eb93-1feb-4455-af70-939c7eab5bc6",
   "metadata": {
    "tags": []
   },
   "outputs": [],
   "source": [
    "# 4. 生成水果的信息数据。"
   ]
  },
  {
   "cell_type": "code",
   "execution_count": 79,
   "id": "f71b2353-37ab-4421-91b3-5b33a85de3c2",
   "metadata": {
    "tags": []
   },
   "outputs": [
    {
     "data": {
      "text/html": [
       "<div>\n",
       "<style scoped>\n",
       "    .dataframe tbody tr th:only-of-type {\n",
       "        vertical-align: middle;\n",
       "    }\n",
       "\n",
       "    .dataframe tbody tr th {\n",
       "        vertical-align: top;\n",
       "    }\n",
       "\n",
       "    .dataframe thead th {\n",
       "        text-align: right;\n",
       "    }\n",
       "</style>\n",
       "<table border=\"1\" class=\"dataframe\">\n",
       "  <thead>\n",
       "    <tr style=\"text-align: right;\">\n",
       "      <th></th>\n",
       "      <th>fruit</th>\n",
       "      <th>price</th>\n",
       "      <th>region</th>\n",
       "    </tr>\n",
       "  </thead>\n",
       "  <tbody>\n",
       "    <tr>\n",
       "      <th>0</th>\n",
       "      <td>香蕉</td>\n",
       "      <td>3.8</td>\n",
       "      <td>华南</td>\n",
       "    </tr>\n",
       "    <tr>\n",
       "      <th>1</th>\n",
       "      <td>苹果</td>\n",
       "      <td>8.9</td>\n",
       "      <td>华北</td>\n",
       "    </tr>\n",
       "    <tr>\n",
       "      <th>2</th>\n",
       "      <td>葡萄</td>\n",
       "      <td>12.8</td>\n",
       "      <td>西北</td>\n",
       "    </tr>\n",
       "    <tr>\n",
       "      <th>3</th>\n",
       "      <td>橙子</td>\n",
       "      <td>6.8</td>\n",
       "      <td>华中</td>\n",
       "    </tr>\n",
       "    <tr>\n",
       "      <th>4</th>\n",
       "      <td>哈密瓜</td>\n",
       "      <td>15.8</td>\n",
       "      <td>西北</td>\n",
       "    </tr>\n",
       "    <tr>\n",
       "      <th>5</th>\n",
       "      <td>芭乐</td>\n",
       "      <td>4.9</td>\n",
       "      <td>华南</td>\n",
       "    </tr>\n",
       "    <tr>\n",
       "      <th>6</th>\n",
       "      <td>梨</td>\n",
       "      <td>5.8</td>\n",
       "      <td>华北</td>\n",
       "    </tr>\n",
       "    <tr>\n",
       "      <th>7</th>\n",
       "      <td>桃子</td>\n",
       "      <td>7.0</td>\n",
       "      <td>华中</td>\n",
       "    </tr>\n",
       "  </tbody>\n",
       "</table>\n",
       "</div>"
      ],
      "text/plain": [
       "  fruit  price region\n",
       "0    香蕉    3.8     华南\n",
       "1    苹果    8.9     华北\n",
       "2    葡萄   12.8     西北\n",
       "3    橙子    6.8     华中\n",
       "4   哈密瓜   15.8     西北\n",
       "5    芭乐    4.9     华南\n",
       "6     梨    5.8     华北\n",
       "7    桃子    7.0     华中"
      ]
     },
     "execution_count": 79,
     "metadata": {},
     "output_type": "execute_result"
    }
   ],
   "source": [
    "infortmation = pd.DataFrame({\"fruit\":fruits,\n",
    "                             \"price\":[3.8, 8.9, 12.8, 6.8, 15.8, 4.9, 5.8, 7],\n",
    "                             \"region\":[\"华南\",\"华北\",\"西北\",\"华中\",\"西北\",\"华南\",\"华北\",\"华中\"]}\n",
    "                            )\n",
    "\n",
    "infortmation"
   ]
  },
  {
   "cell_type": "code",
   "execution_count": 80,
   "id": "f72b1108-84a7-49f1-9bce-59b010594efb",
   "metadata": {
    "tags": []
   },
   "outputs": [],
   "source": [
    "# 5. 数据合并。"
   ]
  },
  {
   "cell_type": "code",
   "execution_count": 81,
   "id": "223758aa-291d-4f86-bbbf-322637491ff9",
   "metadata": {
    "tags": []
   },
   "outputs": [
    {
     "data": {
      "text/html": [
       "<div>\n",
       "<style scoped>\n",
       "    .dataframe tbody tr th:only-of-type {\n",
       "        vertical-align: middle;\n",
       "    }\n",
       "\n",
       "    .dataframe tbody tr th {\n",
       "        vertical-align: top;\n",
       "    }\n",
       "\n",
       "    .dataframe thead th {\n",
       "        text-align: right;\n",
       "    }\n",
       "</style>\n",
       "<table border=\"1\" class=\"dataframe\">\n",
       "  <thead>\n",
       "    <tr style=\"text-align: right;\">\n",
       "      <th></th>\n",
       "      <th>time</th>\n",
       "      <th>fruit</th>\n",
       "      <th>name</th>\n",
       "      <th>kilogram</th>\n",
       "      <th>price</th>\n",
       "      <th>region</th>\n",
       "    </tr>\n",
       "  </thead>\n",
       "  <tbody>\n",
       "    <tr>\n",
       "      <th>0</th>\n",
       "      <td>2019-01-01</td>\n",
       "      <td>橙子</td>\n",
       "      <td>Jhon</td>\n",
       "      <td>93</td>\n",
       "      <td>6.8</td>\n",
       "      <td>华中</td>\n",
       "    </tr>\n",
       "    <tr>\n",
       "      <th>1</th>\n",
       "      <td>2019-01-02</td>\n",
       "      <td>桃子</td>\n",
       "      <td>Xiaoming</td>\n",
       "      <td>93</td>\n",
       "      <td>7.0</td>\n",
       "      <td>华中</td>\n",
       "    </tr>\n",
       "    <tr>\n",
       "      <th>2</th>\n",
       "      <td>2019-01-03</td>\n",
       "      <td>芭乐</td>\n",
       "      <td>Tom</td>\n",
       "      <td>69</td>\n",
       "      <td>4.9</td>\n",
       "      <td>华南</td>\n",
       "    </tr>\n",
       "    <tr>\n",
       "      <th>3</th>\n",
       "      <td>2019-01-04</td>\n",
       "      <td>香蕉</td>\n",
       "      <td>Jimmy</td>\n",
       "      <td>87</td>\n",
       "      <td>3.8</td>\n",
       "      <td>华南</td>\n",
       "    </tr>\n",
       "    <tr>\n",
       "      <th>4</th>\n",
       "      <td>2019-01-05</td>\n",
       "      <td>桃子</td>\n",
       "      <td>Tom</td>\n",
       "      <td>68</td>\n",
       "      <td>7.0</td>\n",
       "      <td>华中</td>\n",
       "    </tr>\n",
       "    <tr>\n",
       "      <th>...</th>\n",
       "      <td>...</td>\n",
       "      <td>...</td>\n",
       "      <td>...</td>\n",
       "      <td>...</td>\n",
       "      <td>...</td>\n",
       "      <td>...</td>\n",
       "    </tr>\n",
       "    <tr>\n",
       "      <th>1091</th>\n",
       "      <td>2021-12-27</td>\n",
       "      <td>葡萄</td>\n",
       "      <td>Lym</td>\n",
       "      <td>74</td>\n",
       "      <td>12.8</td>\n",
       "      <td>西北</td>\n",
       "    </tr>\n",
       "    <tr>\n",
       "      <th>1092</th>\n",
       "      <td>2021-12-28</td>\n",
       "      <td>葡萄</td>\n",
       "      <td>Tom</td>\n",
       "      <td>51</td>\n",
       "      <td>12.8</td>\n",
       "      <td>西北</td>\n",
       "    </tr>\n",
       "    <tr>\n",
       "      <th>1093</th>\n",
       "      <td>2021-12-29</td>\n",
       "      <td>梨</td>\n",
       "      <td>Tom</td>\n",
       "      <td>78</td>\n",
       "      <td>5.8</td>\n",
       "      <td>华北</td>\n",
       "    </tr>\n",
       "    <tr>\n",
       "      <th>1094</th>\n",
       "      <td>2021-12-30</td>\n",
       "      <td>葡萄</td>\n",
       "      <td>Michk</td>\n",
       "      <td>66</td>\n",
       "      <td>12.8</td>\n",
       "      <td>西北</td>\n",
       "    </tr>\n",
       "    <tr>\n",
       "      <th>1095</th>\n",
       "      <td>2021-12-31</td>\n",
       "      <td>桃子</td>\n",
       "      <td>Xiaoming</td>\n",
       "      <td>76</td>\n",
       "      <td>7.0</td>\n",
       "      <td>华中</td>\n",
       "    </tr>\n",
       "  </tbody>\n",
       "</table>\n",
       "<p>1096 rows × 6 columns</p>\n",
       "</div>"
      ],
      "text/plain": [
       "           time fruit      name  kilogram  price region\n",
       "0    2019-01-01    橙子      Jhon        93    6.8     华中\n",
       "1    2019-01-02    桃子  Xiaoming        93    7.0     华中\n",
       "2    2019-01-03    芭乐       Tom        69    4.9     华南\n",
       "3    2019-01-04    香蕉     Jimmy        87    3.8     华南\n",
       "4    2019-01-05    桃子       Tom        68    7.0     华中\n",
       "...         ...   ...       ...       ...    ...    ...\n",
       "1091 2021-12-27    葡萄       Lym        74   12.8     西北\n",
       "1092 2021-12-28    葡萄       Tom        51   12.8     西北\n",
       "1093 2021-12-29     梨       Tom        78    5.8     华北\n",
       "1094 2021-12-30    葡萄     Michk        66   12.8     西北\n",
       "1095 2021-12-31    桃子  Xiaoming        76    7.0     华中\n",
       "\n",
       "[1096 rows x 6 columns]"
      ]
     },
     "execution_count": 81,
     "metadata": {},
     "output_type": "execute_result"
    }
   ],
   "source": [
    "# 将订单信息和水果信息直接合并成一个完整的 DataFrame，这个 df 就是接下来处理的数据。\n",
    "df = pd.merge(order, infortmation, how=\"outer\").sort_values(\"time\").reset_index(drop=True)\n",
    "df"
   ]
  },
  {
   "cell_type": "code",
   "execution_count": 82,
   "id": "d4efd54e-2bcb-4d3d-acb9-6da512472734",
   "metadata": {
    "tags": []
   },
   "outputs": [],
   "source": [
    "# 6. 生成新的字段 : 订单金额。"
   ]
  },
  {
   "cell_type": "code",
   "execution_count": 83,
   "id": "19d3d0d7-c4cd-4a80-9d44-f711b397d133",
   "metadata": {
    "tags": []
   },
   "outputs": [
    {
     "data": {
      "text/html": [
       "<div>\n",
       "<style scoped>\n",
       "    .dataframe tbody tr th:only-of-type {\n",
       "        vertical-align: middle;\n",
       "    }\n",
       "\n",
       "    .dataframe tbody tr th {\n",
       "        vertical-align: top;\n",
       "    }\n",
       "\n",
       "    .dataframe thead th {\n",
       "        text-align: right;\n",
       "    }\n",
       "</style>\n",
       "<table border=\"1\" class=\"dataframe\">\n",
       "  <thead>\n",
       "    <tr style=\"text-align: right;\">\n",
       "      <th></th>\n",
       "      <th>time</th>\n",
       "      <th>fruit</th>\n",
       "      <th>name</th>\n",
       "      <th>kilogram</th>\n",
       "      <th>price</th>\n",
       "      <th>region</th>\n",
       "      <th>amount</th>\n",
       "    </tr>\n",
       "  </thead>\n",
       "  <tbody>\n",
       "    <tr>\n",
       "      <th>0</th>\n",
       "      <td>2019-01-01</td>\n",
       "      <td>橙子</td>\n",
       "      <td>Jhon</td>\n",
       "      <td>93</td>\n",
       "      <td>6.8</td>\n",
       "      <td>华中</td>\n",
       "      <td>632.4</td>\n",
       "    </tr>\n",
       "    <tr>\n",
       "      <th>1</th>\n",
       "      <td>2019-01-02</td>\n",
       "      <td>桃子</td>\n",
       "      <td>Xiaoming</td>\n",
       "      <td>93</td>\n",
       "      <td>7.0</td>\n",
       "      <td>华中</td>\n",
       "      <td>651.0</td>\n",
       "    </tr>\n",
       "    <tr>\n",
       "      <th>2</th>\n",
       "      <td>2019-01-03</td>\n",
       "      <td>芭乐</td>\n",
       "      <td>Tom</td>\n",
       "      <td>69</td>\n",
       "      <td>4.9</td>\n",
       "      <td>华南</td>\n",
       "      <td>338.1</td>\n",
       "    </tr>\n",
       "    <tr>\n",
       "      <th>3</th>\n",
       "      <td>2019-01-04</td>\n",
       "      <td>香蕉</td>\n",
       "      <td>Jimmy</td>\n",
       "      <td>87</td>\n",
       "      <td>3.8</td>\n",
       "      <td>华南</td>\n",
       "      <td>330.6</td>\n",
       "    </tr>\n",
       "    <tr>\n",
       "      <th>4</th>\n",
       "      <td>2019-01-05</td>\n",
       "      <td>桃子</td>\n",
       "      <td>Tom</td>\n",
       "      <td>68</td>\n",
       "      <td>7.0</td>\n",
       "      <td>华中</td>\n",
       "      <td>476.0</td>\n",
       "    </tr>\n",
       "  </tbody>\n",
       "</table>\n",
       "</div>"
      ],
      "text/plain": [
       "        time fruit      name  kilogram  price region  amount\n",
       "0 2019-01-01    橙子      Jhon        93    6.8     华中   632.4\n",
       "1 2019-01-02    桃子  Xiaoming        93    7.0     华中   651.0\n",
       "2 2019-01-03    芭乐       Tom        69    4.9     华南   338.1\n",
       "3 2019-01-04    香蕉     Jimmy        87    3.8     华南   330.6\n",
       "4 2019-01-05    桃子       Tom        68    7.0     华中   476.0"
      ]
     },
     "execution_count": 83,
     "metadata": {},
     "output_type": "execute_result"
    }
   ],
   "source": [
    "df[\"amount\"] = df[\"kilogram\"] * df[\"price\"]\n",
    "df.head()"
   ]
  },
  {
   "cell_type": "code",
   "execution_count": 84,
   "id": "d858a6e2-a943-493c-ac88-7695a49a8517",
   "metadata": {
    "tags": []
   },
   "outputs": [
    {
     "data": {
      "text/plain": [
       "time        datetime64[ns]\n",
       "fruit               object\n",
       "name                object\n",
       "kilogram             int32\n",
       "price              float64\n",
       "region              object\n",
       "amount             float64\n",
       "dtype: object"
      ]
     },
     "execution_count": 84,
     "metadata": {},
     "output_type": "execute_result"
    }
   ],
   "source": [
    "# 数据类型。\n",
    "df.dtypes"
   ]
  },
  {
   "cell_type": "code",
   "execution_count": 85,
   "id": "a1fda1d1-5188-4441-9dd9-a6fcb3f96150",
   "metadata": {
    "tags": []
   },
   "outputs": [],
   "source": [
    "# 到这里你可以学到：\n",
    "\n",
    "#     * 如何生成时间相关的数据。\n",
    "\n",
    "#     * 如何从列表（可迭代对象）中生成随机数据。\n",
    "\n",
    "#     * Pandas 的 DataFrame 自行创建，包含生成新字段。\n",
    "\n",
    "#     * Pandas 数据合并。"
   ]
  },
  {
   "cell_type": "code",
   "execution_count": null,
   "id": "ac83990e-ab0e-44ac-be3b-5faca8c67e09",
   "metadata": {},
   "outputs": [],
   "source": []
  }
 ],
 "metadata": {
  "kernelspec": {
   "display_name": "Python 3 (ipykernel)",
   "language": "python",
   "name": "python3"
  },
  "language_info": {
   "codemirror_mode": {
    "name": "ipython",
    "version": 3
   },
   "file_extension": ".py",
   "mimetype": "text/x-python",
   "name": "python",
   "nbconvert_exporter": "python",
   "pygments_lexer": "ipython3",
   "version": "3.8.0"
  }
 },
 "nbformat": 4,
 "nbformat_minor": 5
}
