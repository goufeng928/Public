{
 "cells": [
  {
   "cell_type": "code",
   "execution_count": 2,
   "id": "cce1d96e-c6b1-4601-9058-6201e48bd07b",
   "metadata": {
    "tags": []
   },
   "outputs": [],
   "source": [
    "# Creat By GF 2023-07-18\n",
    "\n",
    "# Python3_Project_时间维度分析.ipynb"
   ]
  },
  {
   "cell_type": "code",
   "execution_count": 3,
   "id": "08165f86-2c2f-422d-b655-8315ee727f73",
   "metadata": {
    "tags": []
   },
   "outputs": [],
   "source": [
    "import pandas as pd\n",
    "from matplotlib import pyplot as plt\n",
    "from matplotlib.cm import ScalarMappable"
   ]
  },
  {
   "cell_type": "code",
   "execution_count": 7,
   "id": "a40507fa-6f40-4628-a745-9070edd547ce",
   "metadata": {
    "tags": []
   },
   "outputs": [],
   "source": [
    "# 导入计算好的数据。\n",
    "\n",
    "import Python3_Project_RFM_Building_Data\n",
    "\n",
    "df = Python3_Project_RFM_Building_Data.df"
   ]
  },
  {
   "cell_type": "code",
   "execution_count": 8,
   "id": "dc2aeff5-0c2a-4c5e-9ffe-1410ecbdcc3e",
   "metadata": {},
   "outputs": [],
   "source": [
    "# 2019-2021年每月销量走势。"
   ]
  },
  {
   "cell_type": "code",
   "execution_count": 9,
   "id": "b9e259cc-c8f0-4fbd-af54-978c811dbbf5",
   "metadata": {
    "tags": []
   },
   "outputs": [
    {
     "data": {
      "text/html": [
       "<div>\n",
       "<style scoped>\n",
       "    .dataframe tbody tr th:only-of-type {\n",
       "        vertical-align: middle;\n",
       "    }\n",
       "\n",
       "    .dataframe tbody tr th {\n",
       "        vertical-align: top;\n",
       "    }\n",
       "\n",
       "    .dataframe thead th {\n",
       "        text-align: right;\n",
       "    }\n",
       "</style>\n",
       "<table border=\"1\" class=\"dataframe\">\n",
       "  <thead>\n",
       "    <tr style=\"text-align: right;\">\n",
       "      <th></th>\n",
       "      <th>time</th>\n",
       "      <th>fruit</th>\n",
       "      <th>name</th>\n",
       "      <th>kilogram</th>\n",
       "      <th>price</th>\n",
       "      <th>region</th>\n",
       "      <th>amount</th>\n",
       "      <th>year</th>\n",
       "      <th>month</th>\n",
       "      <th>year_month</th>\n",
       "    </tr>\n",
       "  </thead>\n",
       "  <tbody>\n",
       "    <tr>\n",
       "      <th>0</th>\n",
       "      <td>2019-01-01</td>\n",
       "      <td>芭乐</td>\n",
       "      <td>Jhon</td>\n",
       "      <td>76</td>\n",
       "      <td>4.9</td>\n",
       "      <td>华南</td>\n",
       "      <td>372.4</td>\n",
       "      <td>2019</td>\n",
       "      <td>1</td>\n",
       "      <td>201901</td>\n",
       "    </tr>\n",
       "    <tr>\n",
       "      <th>1</th>\n",
       "      <td>2019-01-02</td>\n",
       "      <td>橙子</td>\n",
       "      <td>Jhon</td>\n",
       "      <td>89</td>\n",
       "      <td>6.8</td>\n",
       "      <td>华中</td>\n",
       "      <td>605.2</td>\n",
       "      <td>2019</td>\n",
       "      <td>1</td>\n",
       "      <td>201901</td>\n",
       "    </tr>\n",
       "    <tr>\n",
       "      <th>2</th>\n",
       "      <td>2019-01-03</td>\n",
       "      <td>桃子</td>\n",
       "      <td>Xiaoming</td>\n",
       "      <td>78</td>\n",
       "      <td>7.0</td>\n",
       "      <td>华中</td>\n",
       "      <td>546.0</td>\n",
       "      <td>2019</td>\n",
       "      <td>1</td>\n",
       "      <td>201901</td>\n",
       "    </tr>\n",
       "    <tr>\n",
       "      <th>3</th>\n",
       "      <td>2019-01-04</td>\n",
       "      <td>橙子</td>\n",
       "      <td>Xiaoming</td>\n",
       "      <td>79</td>\n",
       "      <td>6.8</td>\n",
       "      <td>华中</td>\n",
       "      <td>537.2</td>\n",
       "      <td>2019</td>\n",
       "      <td>1</td>\n",
       "      <td>201901</td>\n",
       "    </tr>\n",
       "    <tr>\n",
       "      <th>4</th>\n",
       "      <td>2019-01-05</td>\n",
       "      <td>苹果</td>\n",
       "      <td>Jhon</td>\n",
       "      <td>60</td>\n",
       "      <td>8.9</td>\n",
       "      <td>华北</td>\n",
       "      <td>534.0</td>\n",
       "      <td>2019</td>\n",
       "      <td>1</td>\n",
       "      <td>201901</td>\n",
       "    </tr>\n",
       "    <tr>\n",
       "      <th>...</th>\n",
       "      <td>...</td>\n",
       "      <td>...</td>\n",
       "      <td>...</td>\n",
       "      <td>...</td>\n",
       "      <td>...</td>\n",
       "      <td>...</td>\n",
       "      <td>...</td>\n",
       "      <td>...</td>\n",
       "      <td>...</td>\n",
       "      <td>...</td>\n",
       "    </tr>\n",
       "    <tr>\n",
       "      <th>1091</th>\n",
       "      <td>2021-12-27</td>\n",
       "      <td>葡萄</td>\n",
       "      <td>Jhon</td>\n",
       "      <td>78</td>\n",
       "      <td>12.8</td>\n",
       "      <td>西北</td>\n",
       "      <td>998.4</td>\n",
       "      <td>2021</td>\n",
       "      <td>12</td>\n",
       "      <td>202112</td>\n",
       "    </tr>\n",
       "    <tr>\n",
       "      <th>1092</th>\n",
       "      <td>2021-12-28</td>\n",
       "      <td>桃子</td>\n",
       "      <td>Jimmy</td>\n",
       "      <td>59</td>\n",
       "      <td>7.0</td>\n",
       "      <td>华中</td>\n",
       "      <td>413.0</td>\n",
       "      <td>2021</td>\n",
       "      <td>12</td>\n",
       "      <td>202112</td>\n",
       "    </tr>\n",
       "    <tr>\n",
       "      <th>1093</th>\n",
       "      <td>2021-12-29</td>\n",
       "      <td>橙子</td>\n",
       "      <td>Michk</td>\n",
       "      <td>86</td>\n",
       "      <td>6.8</td>\n",
       "      <td>华中</td>\n",
       "      <td>584.8</td>\n",
       "      <td>2021</td>\n",
       "      <td>12</td>\n",
       "      <td>202112</td>\n",
       "    </tr>\n",
       "    <tr>\n",
       "      <th>1094</th>\n",
       "      <td>2021-12-30</td>\n",
       "      <td>桃子</td>\n",
       "      <td>Xiaoming</td>\n",
       "      <td>65</td>\n",
       "      <td>7.0</td>\n",
       "      <td>华中</td>\n",
       "      <td>455.0</td>\n",
       "      <td>2021</td>\n",
       "      <td>12</td>\n",
       "      <td>202112</td>\n",
       "    </tr>\n",
       "    <tr>\n",
       "      <th>1095</th>\n",
       "      <td>2021-12-31</td>\n",
       "      <td>香蕉</td>\n",
       "      <td>Mike</td>\n",
       "      <td>70</td>\n",
       "      <td>3.8</td>\n",
       "      <td>华南</td>\n",
       "      <td>266.0</td>\n",
       "      <td>2021</td>\n",
       "      <td>12</td>\n",
       "      <td>202112</td>\n",
       "    </tr>\n",
       "  </tbody>\n",
       "</table>\n",
       "<p>1096 rows × 10 columns</p>\n",
       "</div>"
      ],
      "text/plain": [
       "           time fruit      name  kilogram  price region  amount  year  month  \\\n",
       "0    2019-01-01    芭乐      Jhon        76    4.9     华南   372.4  2019      1   \n",
       "1    2019-01-02    橙子      Jhon        89    6.8     华中   605.2  2019      1   \n",
       "2    2019-01-03    桃子  Xiaoming        78    7.0     华中   546.0  2019      1   \n",
       "3    2019-01-04    橙子  Xiaoming        79    6.8     华中   537.2  2019      1   \n",
       "4    2019-01-05    苹果      Jhon        60    8.9     华北   534.0  2019      1   \n",
       "...         ...   ...       ...       ...    ...    ...     ...   ...    ...   \n",
       "1091 2021-12-27    葡萄      Jhon        78   12.8     西北   998.4  2021     12   \n",
       "1092 2021-12-28    桃子     Jimmy        59    7.0     华中   413.0  2021     12   \n",
       "1093 2021-12-29    橙子     Michk        86    6.8     华中   584.8  2021     12   \n",
       "1094 2021-12-30    桃子  Xiaoming        65    7.0     华中   455.0  2021     12   \n",
       "1095 2021-12-31    香蕉      Mike        70    3.8     华南   266.0  2021     12   \n",
       "\n",
       "     year_month  \n",
       "0        201901  \n",
       "1        201901  \n",
       "2        201901  \n",
       "3        201901  \n",
       "4        201901  \n",
       "...         ...  \n",
       "1091     202112  \n",
       "1092     202112  \n",
       "1093     202112  \n",
       "1094     202112  \n",
       "1095     202112  \n",
       "\n",
       "[1096 rows x 10 columns]"
      ]
     },
     "execution_count": 9,
     "metadata": {},
     "output_type": "execute_result"
    }
   ],
   "source": [
    "# 1. 先把年份和月份提取出来。\n",
    "\n",
    "df[\"year\"] = df[\"time\"].dt.year\n",
    "df[\"month\"] = df[\"time\"].dt.month\n",
    "\n",
    "# 同时提取年份和月份。\n",
    "df[\"year_month\"] = df[\"time\"].dt.strftime('%Y%m')\n",
    "             \n",
    "df"
   ]
  },
  {
   "cell_type": "code",
   "execution_count": 10,
   "id": "95bf4ce5-ae99-47e0-8b56-16503df6c3c3",
   "metadata": {
    "tags": []
   },
   "outputs": [
    {
     "data": {
      "text/plain": [
       "time          datetime64[ns]\n",
       "fruit                 object\n",
       "name                  object\n",
       "kilogram               int32\n",
       "price                float64\n",
       "region                object\n",
       "amount               float64\n",
       "year                   int64\n",
       "month                  int64\n",
       "year_month            object\n",
       "dtype: object"
      ]
     },
     "execution_count": 10,
     "metadata": {},
     "output_type": "execute_result"
    }
   ],
   "source": [
    "# 2. 查看字段类型。\n",
    "\n",
    "df.dtypes"
   ]
  },
  {
   "cell_type": "code",
   "execution_count": 11,
   "id": "4426ec5b-d240-4e2e-bdb9-8bd290c1ed59",
   "metadata": {
    "tags": []
   },
   "outputs": [],
   "source": [
    "# 3. 分年月统计并展示。"
   ]
  },
  {
   "cell_type": "code",
   "execution_count": 71,
   "id": "6a5f9c6e-a478-43f8-bd15-8c3fc195a496",
   "metadata": {
    "tags": []
   },
   "outputs": [
    {
     "data": {
      "image/png": "[encoded data removed]",
      "text/plain": [
       "<Figure size 864x432 with 2 Axes>"
      ]
     },
     "metadata": {},
     "output_type": "display_data"
    }
   ],
   "source": [
    "# 分年月统计销量。\n",
    "df_year_month_kg = df.groupby([\"year_month\"])[\"kilogram\"].sum().reset_index()\n",
    "\n",
    "# --------------------------------------------------\n",
    "\n",
    "# 设置字体使之支持中文显示。\n",
    "plt.rcParams['font.sans-serif'] = ['SimHei']\n",
    "\n",
    "# 创建一个12*6点的画布，设置分辨率为72。\n",
    "fig = plt.figure(figsize=(12, 6), dpi=72)\n",
    "\n",
    "# ColorBar 相关函数。\n",
    "scales = df_year_month_kg[\"kilogram\"].values.tolist()\n",
    "# \"Spectral\" 为正序 (由红到蓝)，\"Spectral_r\" 为倒序 (由蓝到红)。\n",
    "cmap = plt.get_cmap(\"Spectral_r\")\n",
    "norm = plt.Normalize(min(scales), max(scales))\n",
    "\n",
    "# 绘制条形图。\n",
    "ax1 = plt.subplot2grid((6, 12), (0, 0), rowspan=6, colspan=11)\n",
    "for x, y in zip(df_year_month_kg[\"year_month\"], scales):\n",
    "    ax1.bar(x, y, color=[cmap(norm(y))])\n",
    "\n",
    "ax1.set_title(\"条形图 (2019年 - 2021年每月销售量)\")\n",
    "ax1.tick_params(axis='x', labelrotation=-90) # -> 将 X 轴刻度标签旋转 90 度 (正数为逆时针，负数为顺时针)。\n",
    "ax1.set_xlabel(\"日期 (年月)\")\n",
    "ax1.set_ylabel(\"销售量 (Kilogram)\")\n",
    "#ax1.set_grid(True)\n",
    "\n",
    "# 绘制 ColorBar。\n",
    "ax2 = plt.subplot2grid((6, 12), (0, 11), rowspan=6, colspan=1)\n",
    "sm =  ScalarMappable(norm=norm, cmap=cmap)\n",
    "cbar = fig.colorbar(sm, cax=ax2)\n",
    "cbar.ax.set_title(\"Scale\")\n",
    "\n",
    "plt.show()"
   ]
  },
  {
   "cell_type": "code",
   "execution_count": 14,
   "id": "29d002e0-ddda-4f57-8c2d-6009f0cf4a10",
   "metadata": {
    "tags": []
   },
   "outputs": [
    {
     "data": {
      "image/png": "[encoded data removed]",
      "text/plain": [
       "<Figure size 640x480 with 1 Axes>"
      ]
     },
     "metadata": {},
     "output_type": "display_data"
    }
   ],
   "source": [
    "# 2019-2021销售额走势。\n",
    "\n",
    "df_year_month_amt = df.groupby([\"year_month\"])[\"amount\"].sum().reset_index()\n",
    " \n",
    "df_year_month_amt[\"amount\"] = df_year_month_amt[\"amount\"].apply(lambda x:round(x,2))\n",
    "\n",
    "# --------------------------------------------------\n",
    "\n",
    "# 设置字体使之支持中文显示。\n",
    "plt.rcParams['font.sans-serif'] = ['SimHei']\n",
    "\n",
    "plt.plot(df_year_month_amt[\"year_month\"], df_year_month_amt[\"amount\"])\n",
    " \n",
    "plt.title(\"折线图 (2019年 - 2021年每月销售额)\")\n",
    "plt.xticks(rotation=-90) # -> 将 X 轴刻度标签旋转 90 度 (正数为逆时针，负数为顺时针)。\n",
    "plt.xlabel(\"日期 (年月)\")\n",
    "plt.ylabel(\"销售额\")\n",
    "plt.grid(True)\n",
    "\n",
    "plt.show()"
   ]
  },
  {
   "cell_type": "code",
   "execution_count": 15,
   "id": "c9daf4ce-d6c2-4fa4-b3cf-c9dc3d1dc7b1",
   "metadata": {
    "tags": []
   },
   "outputs": [
    {
     "data": {
      "text/html": [
       "<div>\n",
       "<style scoped>\n",
       "    .dataframe tbody tr th:only-of-type {\n",
       "        vertical-align: middle;\n",
       "    }\n",
       "\n",
       "    .dataframe tbody tr th {\n",
       "        vertical-align: top;\n",
       "    }\n",
       "\n",
       "    .dataframe thead th {\n",
       "        text-align: right;\n",
       "    }\n",
       "</style>\n",
       "<table border=\"1\" class=\"dataframe\">\n",
       "  <thead>\n",
       "    <tr style=\"text-align: right;\">\n",
       "      <th></th>\n",
       "      <th>year</th>\n",
       "      <th>kilogram</th>\n",
       "      <th>amount</th>\n",
       "    </tr>\n",
       "  </thead>\n",
       "  <tbody>\n",
       "    <tr>\n",
       "      <th>0</th>\n",
       "      <td>2019</td>\n",
       "      <td>27370</td>\n",
       "      <td>221137.4</td>\n",
       "    </tr>\n",
       "    <tr>\n",
       "      <th>1</th>\n",
       "      <td>2020</td>\n",
       "      <td>27522</td>\n",
       "      <td>216482.0</td>\n",
       "    </tr>\n",
       "    <tr>\n",
       "      <th>2</th>\n",
       "      <td>2021</td>\n",
       "      <td>27154</td>\n",
       "      <td>215586.0</td>\n",
       "    </tr>\n",
       "  </tbody>\n",
       "</table>\n",
       "</div>"
      ],
      "text/plain": [
       "   year  kilogram    amount\n",
       "0  2019     27370  221137.4\n",
       "1  2020     27522  216482.0\n",
       "2  2021     27154  215586.0"
      ]
     },
     "execution_count": 15,
     "metadata": {},
     "output_type": "execute_result"
    }
   ],
   "source": [
    "# 年度销量、销售额和平均销售额。\n",
    "\n",
    "# 年度销量、销售额。\n",
    "\n",
    "df_gather = df.groupby(\"year\").agg({\"kilogram\": \"sum\", \"amount\": \"sum\"}).reset_index()\n",
    "\n",
    "df_gather"
   ]
  },
  {
   "cell_type": "code",
   "execution_count": 16,
   "id": "e83fed3a-6eb1-4edf-9774-e7509925611d",
   "metadata": {
    "tags": []
   },
   "outputs": [
    {
     "data": {
      "text/html": [
       "<div>\n",
       "<style scoped>\n",
       "    .dataframe tbody tr th:only-of-type {\n",
       "        vertical-align: middle;\n",
       "    }\n",
       "\n",
       "    .dataframe tbody tr th {\n",
       "        vertical-align: top;\n",
       "    }\n",
       "\n",
       "    .dataframe thead th {\n",
       "        text-align: right;\n",
       "    }\n",
       "</style>\n",
       "<table border=\"1\" class=\"dataframe\">\n",
       "  <thead>\n",
       "    <tr style=\"text-align: right;\">\n",
       "      <th></th>\n",
       "      <th>year</th>\n",
       "      <th>kilogram</th>\n",
       "      <th>amount</th>\n",
       "      <th>mean_amount</th>\n",
       "    </tr>\n",
       "  </thead>\n",
       "  <tbody>\n",
       "    <tr>\n",
       "      <th>0</th>\n",
       "      <td>2019</td>\n",
       "      <td>27370</td>\n",
       "      <td>221137.4</td>\n",
       "      <td>8.079554</td>\n",
       "    </tr>\n",
       "    <tr>\n",
       "      <th>1</th>\n",
       "      <td>2020</td>\n",
       "      <td>27522</td>\n",
       "      <td>216482.0</td>\n",
       "      <td>7.865780</td>\n",
       "    </tr>\n",
       "    <tr>\n",
       "      <th>2</th>\n",
       "      <td>2021</td>\n",
       "      <td>27154</td>\n",
       "      <td>215586.0</td>\n",
       "      <td>7.939383</td>\n",
       "    </tr>\n",
       "  </tbody>\n",
       "</table>\n",
       "</div>"
      ],
      "text/plain": [
       "   year  kilogram    amount  mean_amount\n",
       "0  2019     27370  221137.4     8.079554\n",
       "1  2020     27522  216482.0     7.865780\n",
       "2  2021     27154  215586.0     7.939383"
      ]
     },
     "execution_count": 16,
     "metadata": {},
     "output_type": "execute_result"
    }
   ],
   "source": [
    "# 年度平均每公斤销售额。\n",
    "\n",
    "df_gather[\"mean_amount\"] = df_gather[\"amount\"] / df_gather[\"kilogram\"]\n",
    "\n",
    "df_gather"
   ]
  },
  {
   "cell_type": "code",
   "execution_count": null,
   "id": "6072a841-9942-42ee-ad07-07d70fe6bdbe",
   "metadata": {},
   "outputs": [],
   "source": []
  }
 ],
 "metadata": {
  "kernelspec": {
   "display_name": "Python 3 (ipykernel)",
   "language": "python",
   "name": "python3"
  },
  "language_info": {
   "codemirror_mode": {
    "name": "ipython",
    "version": 3
   },
   "file_extension": ".py",
   "mimetype": "text/x-python",
   "name": "python",
   "nbconvert_exporter": "python",
   "pygments_lexer": "ipython3",
   "version": "3.8.0"
  }
 },
 "nbformat": 4,
 "nbformat_minor": 5
}
