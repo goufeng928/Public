{
 "cells": [
  {
   "cell_type": "code",
   "execution_count": 1,
   "id": "809b6b57-b66c-4dc4-bfed-89642a45f5f2",
   "metadata": {},
   "outputs": [],
   "source": [
    "# Python_Practice_解多元线性回归方程_GF_2023-09-23.ipynb\n",
    "\n",
    "# Create By GF 2023-09-23 19:50\n",
    "\n",
    "import numpy as np"
   ]
  },
  {
   "cell_type": "code",
   "execution_count": 2,
   "id": "d1026e70-36d1-4e1c-aac7-af8ab231a2e3",
   "metadata": {},
   "outputs": [],
   "source": [
    "# 现实中披萨价格的影响因素应该不止直径一个,这里引入了辅料的因素:\n",
    "\n",
    "# 训练集数据：\n",
    "\n",
    "# +---------+-----------+---------+-----------+\n",
    "# |训练样本 |直径(英寸) |辅料种类 |价格(美元) |\n",
    "# +---------+-----------+---------+-----------+\n",
    "# |1        |8          |11       |9.7759     |\n",
    "# |2        |9          |8.5      |10.7522    |\n",
    "# |3        |11         |15       |12.7048    |\n",
    "# |4        |16         |18       |17.5863    |\n",
    "# |5        |12         |11       |13.6811    |\n",
    "# +---------+-----------+---------+-----------+\n",
    "\n",
    "# 对于以上训练集数据:\n",
    "#\n",
    "# X(i) = (X(i)1, X(i)2)\n",
    "# X(1) = (8, 11)\n",
    "# X(2) = (9, 8.5)\n",
    "# ...\n",
    "#\n",
    "# 对于系数Theta(以下用K代替):\n",
    "#\n",
    "# Matrix_K = (K0, K1, K2, ...)\n",
    "#\n",
    "# Y = K0 + K1·X1 + K2·X2 + ... Kn·Xn\n",
    "#\n",
    "# 由于X和K的结构不整齐, 所以虚构第0个特征X0, 另其恒等于1:\n",
    "#\n",
    "# X(i) = (1, X(i)1, X(i)2)\n",
    "# X(1) = (1, 8, 11)\n",
    "# X(2) = (1, 9, 8.5)\n",
    "# ...\n",
    "#\n",
    "# Matrix_X = {(1, 8, 11),\n",
    "#             (1, 9, 8.5),\n",
    "#             ...}\n",
    "#\n",
    "# 预测Y值:\n",
    "# Predict_Y = Matrix_X · Matrix_K\n",
    "# Predict_Y = {(1, 8, 11),    {K0,\n",
    "#              (1, 9, 8.5), ·  K1,\n",
    "#              ...}            K2,\n",
    "#                              ...}\n",
    "\n",
    "# 测试集数据：\n",
    "\n",
    "# +---------+-----------+---------+-----------+\n",
    "# |训练样本 |直径(英寸) |辅料种类 |价格(美元) |\n",
    "# +---------+-----------+---------+-----------+\n",
    "# |1        |8          |2        |11         |\n",
    "# |2        |9          |0        |8.5        |\n",
    "# |3        |11         |2        |15         |\n",
    "# |4        |16         |2        |18         |\n",
    "# |5        |12         |0        |11         |\n",
    "# +---------+-----------+---------+-----------+"
   ]
  },
  {
   "cell_type": "code",
   "execution_count": 3,
   "id": "58d38b68-2905-456f-9678-a4d29b52c397",
   "metadata": {},
   "outputs": [
    {
     "data": {
      "text/plain": [
       "array([[ 1. ,  8. , 11. ],\n",
       "       [ 1. ,  9. ,  8.5],\n",
       "       [ 1. , 11. , 15. ],\n",
       "       [ 1. , 16. , 18. ],\n",
       "       [ 1. , 12. , 11. ]])"
      ]
     },
     "execution_count": 3,
     "metadata": {},
     "output_type": "execute_result"
    }
   ],
   "source": [
    "Matrix_X = np.array([[1, 8, 11],\n",
    "                     [1, 9, 8.5],\n",
    "                     [1, 11, 15],\n",
    "                     [1, 16, 18],\n",
    "                     [1, 12, 11]])\n",
    "Matrix_X"
   ]
  },
  {
   "cell_type": "code",
   "execution_count": 4,
   "id": "90f5505a-17a5-442a-8c42-a0acc226a3d3",
   "metadata": {},
   "outputs": [
    {
     "name": "stdout",
     "output_type": "stream",
     "text": [
      "Matrix_X 最外维的长度为 5\n"
     ]
    }
   ],
   "source": [
    "# shape[0]表示最外围的数组的维数, shape[1]表示次外围的数组的维数, 数字不断增大, 维数由外到内.\n",
    "print(\"Matrix_X 最外维的长度为 %d\" % Matrix_X.shape[0])"
   ]
  },
  {
   "cell_type": "code",
   "execution_count": 5,
   "id": "47a918f4-364a-4002-be90-e50b2ac04f70",
   "metadata": {},
   "outputs": [
    {
     "data": {
      "text/plain": [
       "array([ 9.7759, 10.7522, 12.7048, 17.5863, 13.6811])"
      ]
     },
     "execution_count": 5,
     "metadata": {},
     "output_type": "execute_result"
    }
   ],
   "source": [
    "Matrix_Y = np.array([9.7759,\n",
    "                     10.7522,\n",
    "                     12.7048,\n",
    "                     17.5863,\n",
    "                     13.6811])\n",
    "Matrix_Y"
   ]
  },
  {
   "cell_type": "code",
   "execution_count": 6,
   "id": "8229067f-fac7-439d-a02f-84c83c613934",
   "metadata": {},
   "outputs": [
    {
     "name": "stdout",
     "output_type": "stream",
     "text": [
      "Matrix_Y 最外维的长度为 5\n"
     ]
    }
   ],
   "source": [
    "# shape[0]表示最外围的数组的维数, shape[1]表示次外围的数组的维数, 数字不断增大, 维数由外到内.\n",
    "print(\"Matrix_Y 最外维的长度为 %d\" % Matrix_Y.shape[0])"
   ]
  },
  {
   "cell_type": "code",
   "execution_count": 7,
   "id": "663a7591-e86a-4eed-bbd8-ed6f3905ff88",
   "metadata": {},
   "outputs": [
    {
     "data": {
      "text/plain": [
       "array([[ 1. ,  1. ,  1. ,  1. ,  1. ],\n",
       "       [ 8. ,  9. , 11. , 16. , 12. ],\n",
       "       [11. ,  8.5, 15. , 18. , 11. ]])"
      ]
     },
     "execution_count": 7,
     "metadata": {},
     "output_type": "execute_result"
    }
   ],
   "source": [
    "Matrix_X.T"
   ]
  },
  {
   "cell_type": "code",
   "execution_count": 8,
   "id": "bd0579fc-89fd-4ce0-b6ae-128e56217404",
   "metadata": {},
   "outputs": [
    {
     "data": {
      "text/plain": [
       "array([[186.  , 166.5 , 254.  , 327.  , 218.  ],\n",
       "       [166.5 , 154.25, 227.5 , 298.  , 202.5 ],\n",
       "       [254.  , 227.5 , 347.  , 447.  , 298.  ],\n",
       "       [327.  , 298.  , 447.  , 581.  , 391.  ],\n",
       "       [218.  , 202.5 , 298.  , 391.  , 266.  ]])"
      ]
     },
     "execution_count": 8,
     "metadata": {},
     "output_type": "execute_result"
    }
   ],
   "source": [
    "Matrix_X.dot(Matrix_X.T)"
   ]
  },
  {
   "cell_type": "code",
   "execution_count": 9,
   "id": "ebf76057-0d66-4a62-b1a1-80790e1ecd4b",
   "metadata": {},
   "outputs": [
    {
     "data": {
      "text/plain": [
       "array([[  5.  ,  56.  ,  63.5 ],\n",
       "       [ 56.  , 666.  , 749.5 ],\n",
       "       [ 63.5 , 749.5 , 863.25]])"
      ]
     },
     "execution_count": 9,
     "metadata": {},
     "output_type": "execute_result"
    }
   ],
   "source": [
    "Matrix_X.T.dot(Matrix_X)"
   ]
  },
  {
   "cell_type": "code",
   "execution_count": 10,
   "id": "543e94d8-0c5e-4263-9b56-aa9e8517a79f",
   "metadata": {},
   "outputs": [],
   "source": [
    "# Matrix_K = (Matrix_X_T · Matrix_X)的逆 · Matrix_X_T · Matrix_Y"
   ]
  },
  {
   "cell_type": "code",
   "execution_count": 11,
   "id": "e568ef36-acc6-41f5-92ed-d8d3349e5ce4",
   "metadata": {},
   "outputs": [
    {
     "data": {
      "text/plain": [
       "array([1.96550000e+00, 9.76300000e-01, 6.16633875e-16])"
      ]
     },
     "execution_count": 11,
     "metadata": {},
     "output_type": "execute_result"
    }
   ],
   "source": [
    "# numpy.linalg 模块包含线性代数的函数.\n",
    "# 使用这个模块, 可以计算逆矩阵, 求特征值, 解线性方程组以及求解行列式等.\n",
    "# inv函数计算逆矩阵.\n",
    "\n",
    "Matrix_K = np.linalg.inv(Matrix_X.T.dot(Matrix_X)).dot(Matrix_X.T).dot(Matrix_Y)\n",
    "Matrix_K"
   ]
  },
  {
   "cell_type": "code",
   "execution_count": null,
   "id": "f3703c6f-3efc-488b-af74-5df5fed720d4",
   "metadata": {},
   "outputs": [],
   "source": []
  },
  {
   "cell_type": "code",
   "execution_count": 12,
   "id": "3594cbb3-fa6c-4ea4-909b-44664f8d6eba",
   "metadata": {},
   "outputs": [],
   "source": [
    "# Other:"
   ]
  },
  {
   "cell_type": "code",
   "execution_count": 13,
   "id": "ba40e0ec-a46e-488f-a777-0533e5b777c7",
   "metadata": {},
   "outputs": [],
   "source": [
    "X_b = np.hstack([np.ones((len(Matrix_X), 1)), Matrix_X])"
   ]
  },
  {
   "cell_type": "code",
   "execution_count": 14,
   "id": "47676526-b560-448d-a3e2-4fab3b6d802c",
   "metadata": {},
   "outputs": [
    {
     "data": {
      "text/plain": [
       "array([1., 1., 1., 1., 1.])"
      ]
     },
     "execution_count": 14,
     "metadata": {},
     "output_type": "execute_result"
    }
   ],
   "source": [
    "np.ones((len(Matrix_X)))"
   ]
  },
  {
   "cell_type": "code",
   "execution_count": 15,
   "id": "4a437a10-3baf-4c71-b644-53f3635d63c7",
   "metadata": {},
   "outputs": [
    {
     "data": {
      "text/plain": [
       "array([[ 1. ,  1. ,  8. , 11. ],\n",
       "       [ 1. ,  1. ,  9. ,  8.5],\n",
       "       [ 1. ,  1. , 11. , 15. ],\n",
       "       [ 1. ,  1. , 16. , 18. ],\n",
       "       [ 1. ,  1. , 12. , 11. ]])"
      ]
     },
     "execution_count": 15,
     "metadata": {},
     "output_type": "execute_result"
    }
   ],
   "source": [
    "np.hstack([np.ones((len(Matrix_X), 1)), Matrix_X])"
   ]
  },
  {
   "cell_type": "code",
   "execution_count": null,
   "id": "5126ce96-3334-4018-ba33-bfefd340a963",
   "metadata": {},
   "outputs": [],
   "source": []
  },
  {
   "cell_type": "code",
   "execution_count": null,
   "id": "4e17b908-9e99-466a-9d17-f4eef63c4b5d",
   "metadata": {},
   "outputs": [],
   "source": []
  },
  {
   "cell_type": "code",
   "execution_count": null,
   "id": "25745c2e-aa6d-4b8b-8c96-2cfff1c99cc2",
   "metadata": {},
   "outputs": [],
   "source": []
  }
 ],
 "metadata": {
  "kernelspec": {
   "display_name": "Python 3 (ipykernel)",
   "language": "python",
   "name": "python3"
  },
  "language_info": {
   "codemirror_mode": {
    "name": "ipython",
    "version": 3
   },
   "file_extension": ".py",
   "mimetype": "text/x-python",
   "name": "python",
   "nbconvert_exporter": "python",
   "pygments_lexer": "ipython3",
   "version": "3.8.0"
  }
 },
 "nbformat": 4,
 "nbformat_minor": 5
}
